{
 "cells": [
  {
   "cell_type": "markdown",
   "metadata": {},
   "source": [
    "## Ejercicio - Crear un paquete\n",
    "En este ejercicio, aprenderás a utilizar entornos virtuales como una forma para no afectar a los paquetes instalados globalmente u otros programas que se ejecutan en tu máquina.\n",
    "\n",
    "## Crear un entorno virtual\n",
    "\n",
    "Crea un entorno virtual mediante venv\n",
    "\n",
    "* Ejecutar en su terminal: python3 -m venv env o bien python -m venv env\n",
    "\n",
    "    ```\n",
    "        python3 -m venv env \n",
    "    ```\n",
    "python -m venv env Ahora tienes un directorio (folder) env creado en tu terminal.\n",
    "\n",
    "* Ejecuta el comando para activar el entorno virtual: source env/bin/activate\n",
    "\n",
    "    ```\n",
    "        source env/bin/activate\n",
    "        # Windows\n",
    "        env\\bin\\activate\n",
    "\n",
    "        o bien: \n",
    "        env\\Scripts\\activate\n",
    "\n",
    "        # Linux, WSL or macOS\n",
    "        source env/bin/activate\n",
    "    ```"
   ]
  },
  {
   "cell_type": "markdown",
   "metadata": {},
   "source": [
    "Captura de virtual environment creado:\n",
    "\n",
    "\n",
    "![Virtual_environment](./Captura1.png)"
   ]
  }
 ],
 "metadata": {
  "interpreter": {
   "hash": "033ce476e86de863a4b8491164379c8bfb2ac03fe5910dda475fb35bbef22770"
  },
  "kernelspec": {
   "display_name": "Python 3.8.10 ('env': venv)",
   "language": "python",
   "name": "python3"
  },
  "language_info": {
   "name": "python",
   "version": "3.8.10"
  },
  "orig_nbformat": 4
 },
 "nbformat": 4,
 "nbformat_minor": 2
}
