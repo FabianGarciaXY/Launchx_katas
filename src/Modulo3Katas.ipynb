{
 "cells": [
  {
   "cell_type": "markdown",
   "metadata": {},
   "source": [
    "## Ejercicio - Escribir declaraciones if, else, y elif\n",
    "Para este ejercicio, escribirás una lógica condicional que imprima una advertencia si un asteroide se acerca a la Tierra demasiado rápido. La velocidad del asteroide varía dependiendo de lo cerca que esté del sol, y cualquier velocidad superior a 25 kilómetros por segundo (km/s) merece una advertencia.\n",
    "\n",
    "Las instrucciones If te permiten ejecutar condicionalmente código Python. Se usan comúnmente en Python para \"tomar decisiones\" sobre lo que debería suceder a continuación mientras se ejecuta un programa.\n",
    "\n",
    "Para crear una instrucción if en Python, define una expresión de prueba que pueda tener un valor True o False, seguido de un bloque de código con sangría que se ejecutará si se cumple la condición.\n",
    "\n",
    "```\n",
    "    if expresion_prueba:\n",
    "    # intrucción(es) a ejecutar\n",
    "```\n",
    "Para escribir un programa con una lógica condicional más compleja, puedes agregar instrucciones else y elif al bloque de código. También puedes anidar instrucciones condicionales.\n",
    "\n",
    "```\n",
    "    if expresion_prueba:\n",
    "      #intrucción(es) a ejecutar\n",
    "    if expresion_prueba:\n",
    "      # intrucción(es) a ejecutar\n",
    "    else: \n",
    "      # intrucción(es) a ejecutar\n",
    "    elif expresion_prueba:\n",
    "      #intrucción(es) a ejecutar\n",
    "    else:\n",
    "      #intrucción(es) a ejecutar\n",
    "\n",
    "```\n",
    ">    TIP Dedica unos minutos a tratar de encontrar una solución. Luego desplázate hacia abajo hasta la parte inferior para ver si has logrado compilar el programa de acuerdo con las especificaciones.\n",
    "\n",
    "\n",
    "Para este ejercicio, escribirás una lógica condicional que imprima una advertencia si un asteroide se acerca a la Tierra demasiado rápido. La velocidad del asteroide varía dependiendo de lo cerca que esté del sol, y cualquier velocidad superior a 25 kilómetros por segundo (km/s) merece una advertencia.\n",
    "\n",
    "\n",
    "Un asteroide se acerca, y viaja a una velocidad de 49 km/s."
   ]
  },
  {
   "cell_type": "code",
   "execution_count": 9,
   "metadata": {},
   "outputs": [
    {
     "name": "stdout",
     "output_type": "stream",
     "text": [
      "Alerta roja, un meteorito está muy cerca de la tierra\n"
     ]
    }
   ],
   "source": [
    "\n",
    "# Añadir el código necesario para crear una variable que guarde la velocidad del asteroide.\n",
    "# Escribe una expresión de prueba para calcular si necesita una advertencia.\n",
    "# Agregue las instrucciones que se ejecutarán si la expresión de prueba es true o false.\n",
    "\n",
    "velocidad_asteroide = 49\n",
    "\n",
    "if (velocidad_asteroide > 26):\n",
    "    print('Alerta roja, un meteorito está muy cerca de la tierra')\n",
    "else:\n",
    "    print('El cielo esta depejado, nada de que preocuparse')"
   ]
  },
  {
   "cell_type": "markdown",
   "metadata": {},
   "source": [
    "Si un asteroide entra en la atmósfera de la Tierra a una velocidad mayor o igual a 20 km/s, a veces produce un rayo de luz que se puede ver desde la Tierra. Escribe la lógica condicional que usa declaraciones if, else, y elif para alertar a las personas de todo el mundo que deben buscar un asteroide en el cielo. ¡Hay uno que se dirige a la tierra ahora a una velocidad de 19 km/s!"
   ]
  },
  {
   "cell_type": "code",
   "execution_count": 16,
   "metadata": {},
   "outputs": [
    {
     "name": "stdout",
     "output_type": "stream",
     "text": [
      "Todo esta en orden.\n"
     ]
    }
   ],
   "source": [
    "# Agrega el código para crear una variable para un asteroide que viaja a 19 km/s\n",
    "# Escribe varias expresiones de prueba para determinar si puedes ver el rayo de luz desde la tierra\n",
    "# Agrega las instrucciones que se ejecutarán si las expresiones de prueba son True o False\n",
    "\n",
    "vel_asteroide= 19\n",
    "\n",
    "if vel_asteroide >= 20:\n",
    "    print('Alerta, se ha producido un rayo de luz en el cielo por un asteroide!')\n",
    "else:\n",
    "    print('Todo esta en orden.')"
   ]
  },
  {
   "cell_type": "markdown",
   "metadata": {},
   "source": [
    "## Ejercicio: Uso de operadores **and** y **or**\n",
    "\n",
    "En el ejercicio anterior, trabajó con sentencias if, else, y elif para escribir programas con lógica condicional compleja. Para crear expresiones booleanas aún más interesantes, puede usar los operadores and y or en Python.\n",
    "\n",
    "Las expresiones and son sólo si ambas subexpresiones son verdaderas.\n",
    "\n",
    "expresión1 and expresión2\n",
    "\n",
    "Las expresiones or son True si al menos una subexpresión es verdadera.\n",
    "\n",
    "expresión1 or expresión2\n",
    "\n",
    "En este ejercicio, aprenderás información más matizada sobre cuándo los asteroides representan un peligro para la Tierra, y utilizarás esa información para mejorar nuestro sistema de advertencia. Aquí está la nueva información que necesitas saber:\n",
    "\n",
    "*Los asteroides de menos de 25 metros en su dimensión más grande probablemente se quemarán a medida que entren en la atmósfera de la Tierra.\n",
    "\n",
    "* Si una pieza de un asteroide que es más grande que 25 metros pero más pequeña que 1000 metros golpeara la Tierra, causaría mucho daño.\n",
    "\n",
    "También discutimos en el ejercicio anterior que:\n",
    "\n",
    "* La velocidad del asteroide varía en función de lo cerca que esté del sol, y cualquier velocidad superior a 25 kilómetros por segundo (km/s) merece una advertencia.\n",
    "* Si un asteroide entra en la atmósfera de la Tierra a una velocidad mayor o igual a 20 km/s, a veces produce un rayo de luz que se puede ver desde la Tierra.\n",
    "\n",
    "Usando toda esta información, escribe un programa que emita la advertencia o información correcta a la gente de la Tierra, según la velocidad y el tamaño de un asteroide. Utiliza instrucciones if, else, y elif, así como los operadores and y or."
   ]
  },
  {
   "cell_type": "code",
   "execution_count": 18,
   "metadata": {},
   "outputs": [
    {
     "name": "stdout",
     "output_type": "stream",
     "text": [
      "Alerta, se ha producido un rayo de luz en el cielo por un asteroide!\n"
     ]
    }
   ],
   "source": [
    "# Agrega el código para crear nuevas variables para la velocidad y el tamaño del asteroide\n",
    "# Para probar el código, prueba con varias velocidades y tamaños\n",
    "# Escribe varias expresiones de prueba o combinaciones de expresiones de prueba para determinar qué mensaje se debe enviar a Tierra.\n",
    "\n",
    "vel_asteroide = 25\n",
    "tamaño_del_asteroide = 40\n",
    "\n",
    "if vel_asteroide > 25 & tamaño_del_asteroide > 25:\n",
    "    print('Alerta, un asteroide a ingresado a la tierra')\n",
    "elif vel_asteroide >= 20:\n",
    "    print('Alerta, se ha producido un rayo de luz en el cielo por un asteroide!')\n",
    "elif tamaño_del_asteroide < 25:\n",
    "    print('Todo esta en orden.')\n",
    "else:\n",
    "    print('Todo esta en orden.')\n"
   ]
  }
 ],
 "metadata": {
  "interpreter": {
   "hash": "033ce476e86de863a4b8491164379c8bfb2ac03fe5910dda475fb35bbef22770"
  },
  "kernelspec": {
   "display_name": "Python 3.8.10 ('env': venv)",
   "language": "python",
   "name": "python3"
  },
  "language_info": {
   "codemirror_mode": {
    "name": "ipython",
    "version": 3
   },
   "file_extension": ".py",
   "mimetype": "text/x-python",
   "name": "python",
   "nbconvert_exporter": "python",
   "pygments_lexer": "ipython3",
   "version": "3.8.10"
  },
  "orig_nbformat": 4
 },
 "nbformat": 4,
 "nbformat_minor": 2
}
